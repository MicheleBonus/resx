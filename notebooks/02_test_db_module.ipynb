{
 "cells": [
  {
   "cell_type": "code",
   "execution_count": 1,
   "metadata": {},
   "outputs": [
    {
     "name": "stdout",
     "output_type": "stream",
     "text": [
      "Testing database connection...\n",
      "✓ Connection successful\n",
      "\n",
      "Testing specific queries...\n",
      "101m chain A has 154 residues\n",
      "P02185 appears in 343 PDB structures\n",
      "\n",
      "Testing core mapping query...\n",
      "Mapping for 101m/A/1:\n",
      "  PDB: 1 VAL\n",
      "  UniProt: 2 V\n"
     ]
    }
   ],
   "source": [
    "# Test database module functionality\n",
    "import sys\n",
    "sys.path.append('..')  # Add parent directory to path to import our modules\n",
    "\n",
    "from db.sqlite import (\n",
    "    get_db,\n",
    "    initialize_db,\n",
    "    DatabaseError\n",
    ")\n",
    "\n",
    "# 1. Test basic connection\n",
    "print(\"Testing database connection...\")\n",
    "try:\n",
    "    with get_db() as conn:\n",
    "        print(\"✓ Connection successful\")\n",
    "except DatabaseError as e:\n",
    "    print(f\"✗ Connection failed: {e}\")\n",
    "\n",
    "# 2. Test simple targeted queries\n",
    "print(\"\\nTesting specific queries...\")\n",
    "try:\n",
    "    with get_db() as conn:\n",
    "        # Test a single PDB\n",
    "        pdb_query = \"\"\"\n",
    "        SELECT COUNT(*) \n",
    "        FROM residues \n",
    "        WHERE pdb_accession_id = '101m' AND pdb_chain_id = 'A'\n",
    "        \"\"\"\n",
    "        count = conn.execute(pdb_query).fetchone()[0]\n",
    "        print(f\"101m chain A has {count} residues\")\n",
    "        \n",
    "        # Test a single UniProt\n",
    "        uniprot_query = \"\"\"\n",
    "        SELECT COUNT(DISTINCT pdb_accession_id) \n",
    "        FROM residues \n",
    "        WHERE uniprot_accession_id = 'P02185'\n",
    "        \"\"\"\n",
    "        count = conn.execute(uniprot_query).fetchone()[0]\n",
    "        print(f\"P02185 appears in {count} PDB structures\")\n",
    "\n",
    "except DatabaseError as e:\n",
    "    print(f\"✗ Query failed: {e}\")\n",
    "\n",
    "# 3. Test our core mapping function\n",
    "print(\"\\nTesting core mapping query...\")\n",
    "try:\n",
    "    with get_db() as conn:\n",
    "        query = \"\"\"\n",
    "        SELECT \n",
    "            pdb_residue_number,\n",
    "            pdb_residue_name,\n",
    "            uniprot_residue_number,\n",
    "            uniprot_residue_name\n",
    "        FROM residues \n",
    "        WHERE pdb_accession_id = ? \n",
    "        AND pdb_chain_id = ? \n",
    "        AND pdb_residue_number = ?\n",
    "        \"\"\"\n",
    "        result = conn.execute(query, ('101m', 'A', 1)).fetchone()\n",
    "        if result:\n",
    "            print(f\"Mapping for 101m/A/1:\")\n",
    "            print(f\"  PDB: {result[0]} {result[1]}\")\n",
    "            print(f\"  UniProt: {result[2]} {result[3]}\")\n",
    "        else:\n",
    "            print(\"No mapping found\")\n",
    "except DatabaseError as e:\n",
    "    print(f\"✗ Mapping query failed: {e}\")"
   ]
  },
  {
   "cell_type": "code",
   "execution_count": null,
   "metadata": {},
   "outputs": [],
   "source": []
  }
 ],
 "metadata": {
  "kernelspec": {
   "display_name": "resx",
   "language": "python",
   "name": "python3"
  },
  "language_info": {
   "codemirror_mode": {
    "name": "ipython",
    "version": 3
   },
   "file_extension": ".py",
   "mimetype": "text/x-python",
   "name": "python",
   "nbconvert_exporter": "python",
   "pygments_lexer": "ipython3",
   "version": "3.12.8"
  }
 },
 "nbformat": 4,
 "nbformat_minor": 2
}
